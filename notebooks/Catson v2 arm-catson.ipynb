{
 "cells": [
  {
   "cell_type": "code",
   "execution_count": 1,
   "metadata": {},
   "outputs": [],
   "source": [
    "import threading\n",
    "import requests\n",
    "import imutils\n",
    "import cv2\n",
    "import re\n",
    "from os.path import join\n",
    "from skimage.measure import compare_ssim\n",
    "from matplotlib import pyplot as plt"
   ]
  },
  {
   "cell_type": "code",
   "execution_count": 2,
   "metadata": {},
   "outputs": [],
   "source": [
    "DEBUG = True\n",
    "TARGET_DIR= \"/data/pictures\"\n",
    "RNN_URL = \"http://192.168.1.209:5000/process\"\n",
    "REGEX = \"Cat: ([a-zA-Z]+) with probability:([0-9.]+)\""
   ]
  },
  {
   "cell_type": "code",
   "execution_count": 177,
   "metadata": {},
   "outputs": [],
   "source": [
    "# extract deltas and trigger RNN\n",
    "def process(ref, img):\n",
    "    global cre\n",
    "    \n",
    "    _cat = \"\"\n",
    "    _proba = \"0.0\"\n",
    "\n",
    "    if DEBUG : print(\"Processing - ref : {0}, img : {1}\".format(ref, img))\n",
    "    imageR = cv2.imread(join(TARGET_DIR,ref))\n",
    "    imageD = cv2.imread(join(TARGET_DIR,img))\n",
    "    \n",
    "    grayR = cv2.cvtColor(imageR, cv2.COLOR_BGR2GRAY)\n",
    "    grayD = cv2.cvtColor(imageD, cv2.COLOR_BGR2GRAY)\n",
    "    \n",
    "    (score, diff) = compare_ssim(grayR, grayD, full=True)\n",
    "    diff = (diff * 255).astype(\"uint8\")\n",
    "    print(\"SSIM: {}\".format(score))\n",
    "    \n",
    "    subimg = cv2.absdiff(imageD, imageR)\n",
    "    subimg = cv2.threshold(cv2.cvtColor(subimg, cv2.COLOR_BGR2GRAY), 0, 255, cv2.THRESH_OTSU)[1]\n",
    "    subimg0 = subimg\n",
    "        \n",
    "    thresh = cv2.threshold(diff, 0, 255, cv2.THRESH_BINARY_INV | cv2.THRESH_OTSU)[1]\n",
    "    subimg += thresh\n",
    "        \n",
    "    titles = [\"SubImg0\", \"Thresh\", \"SubImg\"]\n",
    "    images = [subimg0, thresh, subimg]\n",
    "    \n",
    "    for i in range(3):\n",
    "        plt.subplot(1,3,i+1),plt.imshow(images[i], 'gray')\n",
    "        plt.title(titles[i])\n",
    "        #plt.xticks([]), plt.yticks([])\n",
    "    plt.show()\n",
    "\n",
    "    cnts = cv2.findContours(thresh.copy(), cv2.RETR_EXTERNAL, cv2.CHAIN_APPROX_SIMPLE)\n",
    "    cnts = imutils.grab_contours(cnts)\n",
    "    \n",
    "    for c in cnts:\n",
    "        (x, y, w, h) = cv2.boundingRect(c)\n",
    "        if (w > 200 and h > 200):\n",
    "             if DEBUG : print(\"Found object : x = {0}, y = {1}, w = {2}, h = {3}\".format(x, y, w, h))\n",
    "             cv2.imwrite(join(\"extract\" + str(h) + str(w) + \".jpg\"), imageD[y:y+h, x:x+w])\n",
    "\n",
    "             files = { 'image_file' : open(\"extract\" + str(h) + str(w) + \".jpg\", 'rb') }\n",
    "             values = {}\n",
    "             req = requests.put(RNN_URL,files=files,data=values)\n",
    "\n",
    "             if DEBUG : print(req.text)\n",
    "             \n",
    "             result = cre.search(req.text)\n",
    "             _cat = result.group(1)\n",
    "             _proba = result.group(2)\n",
    "\n",
    "             if DEBUG : print(\"Found : \", _cat,\" with \", _proba)\n",
    "    return _cat, _proba"
   ]
  },
  {
   "cell_type": "code",
   "execution_count": 178,
   "metadata": {},
   "outputs": [],
   "source": [
    "cre = re.compile(REGEX)"
   ]
  },
  {
   "cell_type": "code",
   "execution_count": 179,
   "metadata": {},
   "outputs": [],
   "source": [
    "s = \"E:/temp/180819/01-20190818025308-00.jpg\"\n",
    "t = \"E:/temp/180819/01-20190818025239-00.jpg\""
   ]
  },
  {
   "cell_type": "code",
   "execution_count": 180,
   "metadata": {},
   "outputs": [
    {
     "name": "stdout",
     "output_type": "stream",
     "text": [
      "Processing - ref : E:/temp/180819/01-20190818025308-00.jpg, img : E:/temp/180819/01-20190818025239-00.jpg\n",
      "SSIM: 0.8864653327818653\n"
     ]
    },
    {
     "data": {
      "image/png": "[encoded data removed]",
      "text/plain": [
       "<Figure size 432x288 with 3 Axes>"
      ]
     },
     "metadata": {},
     "output_type": "display_data"
    },
    {
     "name": "stdout",
     "output_type": "stream",
     "text": [
      "Found object : x = 585, y = 239, w = 667, h = 417\n",
      "Cat: grokado with probability:0.95188755\n",
      "\n",
      "Found :  grokado  with  0.95188755\n"
     ]
    }
   ],
   "source": [
    "(cat, proba) = process(s,t)"
   ]
  },
  {
   "cell_type": "code",
   "execution_count": null,
   "metadata": {},
   "outputs": [],
   "source": []
  },
  {
   "cell_type": "code",
   "execution_count": null,
   "metadata": {},
   "outputs": [],
   "source": []
  }
 ],
 "metadata": {
  "kernelspec": {
   "display_name": "Python 3",
   "language": "python",
   "name": "python3"
  },
  "language_info": {
   "codemirror_mode": {
    "name": "ipython",
    "version": 3
   },
   "file_extension": ".py",
   "mimetype": "text/x-python",
   "name": "python",
   "nbconvert_exporter": "python",
   "pygments_lexer": "ipython3",
   "version": "3.6.5"
  }
 },
 "nbformat": 4,
 "nbformat_minor": 2
}
