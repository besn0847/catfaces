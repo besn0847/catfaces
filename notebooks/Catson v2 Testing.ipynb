{
 "cells": [
  {
   "cell_type": "code",
   "execution_count": 11,
   "metadata": {},
   "outputs": [],
   "source": [
    "import os\n",
    "import cv2\n",
    "import pickle\n",
    "import argparse\n",
    "import numpy as np\n",
    "from imutils import paths\n",
    "from PIL import Image\n",
    "from keras.models import load_model\n",
    "from keras.models import model_from_json\n",
    "from keras.models import Sequential\n",
    "from keras.layers.convolutional import Conv2D\n",
    "from keras.layers.convolutional import MaxPooling2D\n",
    "from keras.layers.core import Activation\n",
    "from keras.layers.core import Flatten\n",
    "from keras.layers.core import Dense\n",
    "from keras.optimizers import Adam\n",
    "from keras.preprocessing.image import img_to_array\n",
    "from sklearn.preprocessing import LabelBinarizer\n",
    "from sklearn.metrics import classification_report\n",
    "from sklearn.model_selection import train_test_split"
   ]
  },
  {
   "cell_type": "code",
   "execution_count": 12,
   "metadata": {},
   "outputs": [],
   "source": [
    "#ap = argparse.ArgumentParser()\n",
    "#ap.add_argument(\"-m\", \"--model\", required=True, help=\"json file with trained model to use\")\n",
    "#ap.add_argument(\"-w\", \"--weights\", required=True, help=\"h5 file with trained model to use\")\n",
    "#ap.add_argument(\"-l\", \"--labels\", required=True, help=\"image labels\")\n",
    "#ap.add_argument(\"-i\", \"--image\", required=True, help=\"image to analyse\")\n",
    "#args = vars(ap.parse_args())\n",
    "args = {}\n",
    "args[\"model\"] = \"C:/Users/UTILISATEUR/Sandbox/catfaces/notebooks/cat_model_architecture.json\"\n",
    "args[\"weights\"] = \"C:/Users/UTILISATEUR/Sandbox/catfaces/notebooks/cat_neural_model.h5\"\n",
    "args[\"labels\"] = \"C:/Users/UTILISATEUR/Sandbox/catfaces/notebooks/cat_labels.bin\"\n",
    "args[\"images\"] = \"C:/Users/UTILISATEUR/Sandbox/catfaces/testing\""
   ]
  },
  {
   "cell_type": "code",
   "execution_count": 13,
   "metadata": {},
   "outputs": [
    {
     "name": "stdout",
     "output_type": "stream",
     "text": [
      "[INFO] loading images...\n"
     ]
    }
   ],
   "source": [
    "#with open(args[\"model\"], 'r') as f:\n",
    "\t#model = model_from_json(f.read())\n",
    "\n",
    "#model .load_weights(args[\"weights\"])\n",
    "#lb = pickle.loads(open(args[\"labels\"], \"rb\").read())\n",
    "\n",
    "print(\"[INFO] loading images...\")\n",
    "imagePaths = paths.list_images(args[\"images\"])\n",
    "data = []\n",
    "labels = []"
   ]
  },
  {
   "cell_type": "code",
   "execution_count": 23,
   "metadata": {},
   "outputs": [],
   "source": [
    "# loop over our input images\n",
    "for imagePath in imagePaths:\n",
    "\t# load the input image from disk, resize it to 32x32 pixels, scale\n",
    "\t# the pixel intensities to the range [0, 1], and then update our\n",
    "\t# images list\n",
    "\timage = Image.open(imagePath)\n",
    "\timage = np.array(image.resize((224, 224))) / 255.0\n",
    "\timage = image.astype(\"float\") / 255.0\n",
    "\timage = img_to_array(image)\n",
    "\timage = np.expand_dims(image, axis=0)\n",
    "\tdata.append(image)\n",
    " \n",
    "\t# extract the class label from the file path and update the\n",
    "\t# labels list\n",
    "\tlabel = imagePath.split(os.path.sep)[-2]\n",
    "\tlabels.append(label)"
   ]
  },
  {
   "cell_type": "code",
   "execution_count": 24,
   "metadata": {},
   "outputs": [],
   "source": [
    "#(testX, testY) = (np.array(data),np.array(labels))\n",
    "(trainX, testX, trainY, testY) = train_test_split(np.array(data),np.array(labels), test_size=0.99)"
   ]
  },
  {
   "cell_type": "code",
   "execution_count": 27,
   "metadata": {},
   "outputs": [],
   "source": [
    "with open(args[\"model\"], 'r') as f:\n",
    "\tmodel = model_from_json(f.read())\n",
    "\n",
    "model.load_weights(args[\"weights\"])\n",
    "lb = pickle.loads(open(args[\"labels\"], \"rb\").read())\n",
    "#lb = LabelBinarizer()\n",
    "#labels = lb.fit_transform(labels)"
   ]
  },
  {
   "cell_type": "code",
   "execution_count": 18,
   "metadata": {},
   "outputs": [],
   "source": [
    "#image = cv2.imread(args[\"image\"])\n",
    "#image = cv2.resize(image, (224, 224))\n",
    "#image = image.astype(\"float\") / 255.0\n",
    "#image = img_to_array(image)\n",
    "#image = np.expand_dims(image, axis=0)"
   ]
  },
  {
   "cell_type": "code",
   "execution_count": 28,
   "metadata": {},
   "outputs": [
    {
     "name": "stdout",
     "output_type": "stream",
     "text": [
      "[INFO] evaluating network...\n",
      "             precision    recall  f1-score   support\n",
      "\n",
      "     bagguy       0.85      0.68      0.76        25\n",
      "      felix       0.95      0.76      0.84        25\n",
      "     gritus       0.94      0.68      0.79        25\n",
      "    grokado       0.75      0.75      0.75         4\n",
      "      kipik       0.00      0.00      0.00        24\n",
      "     mikado       0.00      0.00      0.00        25\n",
      "      nocat       0.00      0.00      0.00         5\n",
      "        ota       0.00      0.00      0.00         0\n",
      "    triknik       0.00      0.00      0.00         0\n",
      "\n",
      "avg / total       0.54      0.42      0.47       133\n",
      "\n"
     ]
    },
    {
     "name": "stderr",
     "output_type": "stream",
     "text": [
      "C:\\ProgramData\\Anaconda3\\lib\\site-packages\\sklearn\\metrics\\classification.py:1137: UndefinedMetricWarning: Recall and F-score are ill-defined and being set to 0.0 in labels with no true samples.\n",
      "  'recall', 'true', average, warn_for)\n"
     ]
    }
   ],
   "source": [
    "#probas = model.predict(image)[0]\n",
    "\n",
    "#idx = np.argmax(probas)\n",
    "#label = lb.classes_[idx]\n",
    "#proba = probas[idx]\n",
    "\n",
    "#print(\"Cat: \" + label + \" with probability:\" + str(proba))\n",
    "# evaluate the network\n",
    "print(\"[INFO] evaluating network...\")\n",
    "predictions = model.predict(testX, batch_size=1)\n",
    "print(classification_report(testY.argmax(axis=1), predictions.argmax(axis=1), target_names=lb.classes_))"
   ]
  },
  {
   "cell_type": "code",
   "execution_count": null,
   "metadata": {},
   "outputs": [],
   "source": []
  }
 ],
 "metadata": {
  "kernelspec": {
   "display_name": "Python 3",
   "language": "python",
   "name": "python3"
  },
  "language_info": {
   "codemirror_mode": {
    "name": "ipython",
    "version": 3
   },
   "file_extension": ".py",
   "mimetype": "text/x-python",
   "name": "python",
   "nbconvert_exporter": "python",
   "pygments_lexer": "ipython3",
   "version": "3.6.5"
  }
 },
 "nbformat": 4,
 "nbformat_minor": 2
}
