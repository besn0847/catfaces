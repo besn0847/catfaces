{
 "cells": [
  {
   "cell_type": "code",
   "execution_count": 3,
   "metadata": {},
   "outputs": [],
   "source": [
    "import threading\n",
    "import requests\n",
    "import imutils\n",
    "import cv2\n",
    "import re\n",
    "from os.path import join\n",
    "from skimage.measure import compare_ssim"
   ]
  },
  {
   "cell_type": "code",
   "execution_count": 4,
   "metadata": {},
   "outputs": [],
   "source": [
    "DEBUG = True\n",
    "TARGET_DIR= \"/data/pictures\"\n",
    "RNN_URL = \"http://192.168.1.209:5000/process\"\n",
    "REGEX = \"Cat: ([a-zA-Z]+) with probability:([0-9.]+)\""
   ]
  },
  {
   "cell_type": "code",
   "execution_count": 5,
   "metadata": {},
   "outputs": [],
   "source": [
    "files = []"
   ]
  },
  {
   "cell_type": "code",
   "execution_count": 6,
   "metadata": {},
   "outputs": [],
   "source": [
    "# extract deltas and trigger RNN\n",
    "def process(ref, img):\n",
    "    global cre\n",
    "    \n",
    "    _cat = \"\"\n",
    "    _proba = \"0.0\"\n",
    "\n",
    "    if DEBUG : print(\"Processing - ref : {0}, img : {1}\".format(ref, img))\n",
    "    imageR = cv2.imread(join(TARGET_DIR,ref))\n",
    "    imageD = cv2.imread(join(TARGET_DIR,img))\n",
    "\n",
    "    grayR = cv2.cvtColor(imageR, cv2.COLOR_BGR2GRAY)\n",
    "    grayD = cv2.cvtColor(imageD, cv2.COLOR_BGR2GRAY)\n",
    "\n",
    "    (score, diff) = compare_ssim(grayR, grayD, full=True)\n",
    "    diff = (diff * 255).astype(\"uint8\")\n",
    "\n",
    "    thresh = cv2.threshold(diff, 0, 255, cv2.THRESH_BINARY_INV | cv2.THRESH_OTSU)[1]\n",
    "    cnts = cv2.findContours(thresh.copy(), cv2.RETR_EXTERNAL, cv2.CHAIN_APPROX_SIMPLE)\n",
    "    cnts = imutils.grab_contours(cnts)\n",
    "\n",
    "    for c in cnts:\n",
    "        (x, y, w, h) = cv2.boundingRect(c)\n",
    "        if (w > 100 and h > 100) and (x > 300 and x < 900 and y > 200 and y < 520) :\n",
    "             if DEBUG : print(\"Found object : x = {0}, y = {1}, w = {2}, h = {3}\".format(x, y, w, h))\n",
    "             cv2.imwrite(join(\"/tmp/\",\"extract.jpg\"), imageD[y:y+h, x:x+w])\n",
    "\n",
    "             files = { 'image_file' : open(\"/tmp/extract.jpg\", 'rb') }\n",
    "             values = {}\n",
    "             req = requests.put(RNN_URL,files=files,data=values)\n",
    "\n",
    "             if DEBUG : print(req.text)\n",
    "             \n",
    "             result = cre.search(req.text)\n",
    "             _cat = result.group(1)\n",
    "             _proba = result.group(2)\n",
    "\n",
    "             if DEBUG : print(\"Found : \", _cat,\" with \", _proba)\n",
    "    return _cat, _proba"
   ]
  },
  {
   "cell_type": "code",
   "execution_count": null,
   "metadata": {},
   "outputs": [],
   "source": []
  }
 ],
 "metadata": {
  "kernelspec": {
   "display_name": "Python 3",
   "language": "python",
   "name": "python3"
  },
  "language_info": {
   "codemirror_mode": {
    "name": "ipython",
    "version": 3
   },
   "file_extension": ".py",
   "mimetype": "text/x-python",
   "name": "python",
   "nbconvert_exporter": "python",
   "pygments_lexer": "ipython3",
   "version": "3.6.5"
  }
 },
 "nbformat": 4,
 "nbformat_minor": 2
}
