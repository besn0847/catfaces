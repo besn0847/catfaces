{
 "cells": [
  {
   "cell_type": "code",
   "execution_count": 1,
   "metadata": {},
   "outputs": [
    {
     "name": "stderr",
     "output_type": "stream",
     "text": [
      "C:\\ProgramData\\Anaconda3\\lib\\site-packages\\h5py\\__init__.py:36: FutureWarning: Conversion of the second argument of issubdtype from `float` to `np.floating` is deprecated. In future, it will be treated as `np.float64 == np.dtype(float).type`.\n",
      "  from ._conv import register_converters as _register_converters\n",
      "Using TensorFlow backend.\n"
     ]
    }
   ],
   "source": [
    "import os\n",
    "import cv2\n",
    "import pickle\n",
    "import argparse\n",
    "import numpy as np\n",
    "from imutils import paths\n",
    "from PIL import Image\n",
    "from keras.models import load_model\n",
    "from keras.models import model_from_json\n",
    "from keras.models import Sequential\n",
    "from keras.layers.convolutional import Conv2D\n",
    "from keras.layers.convolutional import MaxPooling2D\n",
    "from keras.layers.core import Activation\n",
    "from keras.layers.core import Flatten\n",
    "from keras.layers.core import Dense\n",
    "from keras.optimizers import Adam\n",
    "from keras.preprocessing.image import img_to_array\n",
    "from sklearn.preprocessing import LabelBinarizer\n",
    "from sklearn.metrics import classification_report\n",
    "from sklearn.model_selection import train_test_split"
   ]
  },
  {
   "cell_type": "code",
   "execution_count": 2,
   "metadata": {},
   "outputs": [],
   "source": [
    "#ap = argparse.ArgumentParser()\n",
    "#ap.add_argument(\"-m\", \"--model\", required=True, help=\"json file with trained model to use\")\n",
    "#ap.add_argument(\"-w\", \"--weights\", required=True, help=\"h5 file with trained model to use\")\n",
    "#ap.add_argument(\"-l\", \"--labels\", required=True, help=\"image labels\")\n",
    "#ap.add_argument(\"-i\", \"--image\", required=True, help=\"image to analyse\")\n",
    "#args = vars(ap.parse_args())\n",
    "args = {}\n",
    "args[\"model\"] = \"C:/Users/UTILISATEUR/Sandbox/catfaces/notebooks/cat_model_architecture.json\"\n",
    "args[\"weights\"] = \"C:/Users/UTILISATEUR/Sandbox/catfaces/notebooks/cat_neural_model.h5\"\n",
    "args[\"labels\"] = \"C:/Users/UTILISATEUR/Sandbox/catfaces/notebooks/cat_labels.bin\"\n",
    "args[\"image\"] = \"E:/Temp/01-20190816231633-diff.jpg\""
   ]
  },
  {
   "cell_type": "code",
   "execution_count": 3,
   "metadata": {},
   "outputs": [],
   "source": [
    "with open(args[\"model\"], 'r') as f:\n",
    "\tmodel = model_from_json(f.read())\n",
    "\n",
    "model .load_weights(args[\"weights\"])\n",
    "lb = pickle.loads(open(args[\"labels\"], \"rb\").read())"
   ]
  },
  {
   "cell_type": "code",
   "execution_count": 4,
   "metadata": {},
   "outputs": [],
   "source": [
    "image = cv2.imread(args[\"image\"])\n",
    "image = cv2.resize(image, (224, 224))\n",
    "image = image.astype(\"float\") / 255.0\n",
    "image = img_to_array(image)\n",
    "image = np.expand_dims(image, axis=0)"
   ]
  },
  {
   "cell_type": "code",
   "execution_count": 5,
   "metadata": {},
   "outputs": [
    {
     "name": "stdout",
     "output_type": "stream",
     "text": [
      "Cat: gritus with probability:0.5173946\n"
     ]
    }
   ],
   "source": [
    "probas = model.predict(image)[0]\n",
    "\n",
    "idx = np.argmax(probas)\n",
    "label = lb.classes_[idx]\n",
    "proba = probas[idx]\n",
    "\n",
    "print(\"Cat: \" + label + \" with probability:\" + str(proba))"
   ]
  },
  {
   "cell_type": "code",
   "execution_count": 6,
   "metadata": {},
   "outputs": [
    {
     "name": "stdout",
     "output_type": "stream",
     "text": [
      "[array(['bagguy', 'felix', 'gritus', 'grokado', 'kipik', 'mikado', 'nocat',\n",
      "       'ota', 'triknik'], dtype='<U7'), array([3.9680590e-06, 2.3639117e-09, 5.1739460e-01, 1.4331743e-01,\n",
      "       1.6532699e-02, 3.2243440e-01, 3.1644487e-04, 7.9117051e-08,\n",
      "       4.1571792e-07], dtype=float32)]\n"
     ]
    }
   ],
   "source": [
    "print([lb.classes_,probas])"
   ]
  },
  {
   "cell_type": "code",
   "execution_count": null,
   "metadata": {},
   "outputs": [],
   "source": []
  },
  {
   "cell_type": "code",
   "execution_count": null,
   "metadata": {},
   "outputs": [],
   "source": []
  }
 ],
 "metadata": {
  "kernelspec": {
   "display_name": "Python 3",
   "language": "python",
   "name": "python3"
  },
  "language_info": {
   "codemirror_mode": {
    "name": "ipython",
    "version": 3
   },
   "file_extension": ".py",
   "mimetype": "text/x-python",
   "name": "python",
   "nbconvert_exporter": "python",
   "pygments_lexer": "ipython3",
   "version": "3.6.5"
  }
 },
 "nbformat": 4,
 "nbformat_minor": 2
}
