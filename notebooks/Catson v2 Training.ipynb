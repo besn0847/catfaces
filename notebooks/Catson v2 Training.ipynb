{
 "cells": [
  {
   "cell_type": "code",
   "execution_count": 1,
   "metadata": {},
   "outputs": [],
   "source": [
    "### Import modules"
   ]
  },
  {
   "cell_type": "code",
   "execution_count": 2,
   "metadata": {},
   "outputs": [
    {
     "name": "stderr",
     "output_type": "stream",
     "text": [
      "C:\\ProgramData\\Anaconda3\\lib\\site-packages\\h5py\\__init__.py:36: FutureWarning: Conversion of the second argument of issubdtype from `float` to `np.floating` is deprecated. In future, it will be treated as `np.float64 == np.dtype(float).type`.\n",
      "  from ._conv import register_converters as _register_converters\n",
      "Using TensorFlow backend.\n"
     ]
    }
   ],
   "source": [
    "from keras.models import Sequential\n",
    "from keras.layers.convolutional import Conv2D\n",
    "from keras.layers.convolutional import MaxPooling2D\n",
    "from keras.layers.core import Activation\n",
    "from keras.layers.core import Flatten\n",
    "from keras.layers.core import Dense\n",
    "from keras.optimizers import Adam\n",
    "from sklearn.preprocessing import LabelBinarizer\n",
    "from sklearn.model_selection import train_test_split\n",
    "from sklearn.metrics import classification_report\n",
    "from PIL import Image\n",
    "from imutils import paths\n",
    "import numpy as np\n",
    "import argparse\n",
    "import os\n",
    "import pickle"
   ]
  },
  {
   "cell_type": "code",
   "execution_count": 3,
   "metadata": {},
   "outputs": [],
   "source": [
    "# construct the argument parser and parse the arguments\n",
    "#ap = argparse.ArgumentParser()\n",
    "#ap.add_argument(\"-d\", \"--dataset\", type=str, default=\"3scenes\",\n",
    "#\thelp=\"path to directory containing the '3scenes' dataset\")\n",
    "#args = vars(ap.parse_args())\n",
    "dataset = \"C:/Users/UTILISATEUR/Sandbox/catfaces/dataset\""
   ]
  },
  {
   "cell_type": "code",
   "execution_count": 4,
   "metadata": {},
   "outputs": [
    {
     "name": "stdout",
     "output_type": "stream",
     "text": [
      "[INFO] loading images...\n"
     ]
    }
   ],
   "source": [
    "print(\"[INFO] loading images...\")\n",
    "imagePaths = paths.list_images(dataset)\n",
    "data = []\n",
    "labels = []"
   ]
  },
  {
   "cell_type": "code",
   "execution_count": 5,
   "metadata": {},
   "outputs": [],
   "source": [
    "# loop over our input images\n",
    "for imagePath in imagePaths:\n",
    "\t# load the input image from disk, resize it to 32x32 pixels, scale\n",
    "\t# the pixel intensities to the range [0, 1], and then update our\n",
    "\t# images list\n",
    "\timage = Image.open(imagePath)\n",
    "\timage = np.array(image.resize((224, 224))) / 255.0\n",
    "\tdata.append(image)\n",
    " \n",
    "\t# extract the class label from the file path and update the\n",
    "\t# labels list\n",
    "\tlabel = imagePath.split(os.path.sep)[-2]\n",
    "\tlabels.append(label)"
   ]
  },
  {
   "cell_type": "code",
   "execution_count": 6,
   "metadata": {},
   "outputs": [],
   "source": [
    "# encode the labels, converting them from strings to integers\n",
    "lb = LabelBinarizer()\n",
    "labels = lb.fit_transform(labels)"
   ]
  },
  {
   "cell_type": "code",
   "execution_count": 7,
   "metadata": {},
   "outputs": [],
   "source": [
    "# perform a training and testing split, using 75% of the data for\n",
    "# training and 25% for evaluation\n",
    "(trainX, testX, trainY, testY) = train_test_split(np.array(data),np.array(labels), test_size=0.10)\n",
    "(trainX, valX, trainY, valY) = train_test_split(trainX, trainY, test_size=0.20)"
   ]
  },
  {
   "cell_type": "code",
   "execution_count": 8,
   "metadata": {},
   "outputs": [
    {
     "name": "stdout",
     "output_type": "stream",
     "text": [
      "_________________________________________________________________\n",
      "Layer (type)                 Output Shape              Param #   \n",
      "=================================================================\n",
      "conv2d_1 (Conv2D)            (None, 224, 224, 8)       224       \n",
      "_________________________________________________________________\n",
      "activation_1 (Activation)    (None, 224, 224, 8)       0         \n",
      "_________________________________________________________________\n",
      "max_pooling2d_1 (MaxPooling2 (None, 112, 112, 8)       0         \n",
      "_________________________________________________________________\n",
      "conv2d_2 (Conv2D)            (None, 112, 112, 16)      1168      \n",
      "_________________________________________________________________\n",
      "activation_2 (Activation)    (None, 112, 112, 16)      0         \n",
      "_________________________________________________________________\n",
      "max_pooling2d_2 (MaxPooling2 (None, 56, 56, 16)        0         \n",
      "_________________________________________________________________\n",
      "conv2d_3 (Conv2D)            (None, 56, 56, 32)        4640      \n",
      "_________________________________________________________________\n",
      "activation_3 (Activation)    (None, 56, 56, 32)        0         \n",
      "_________________________________________________________________\n",
      "max_pooling2d_3 (MaxPooling2 (None, 28, 28, 32)        0         \n",
      "_________________________________________________________________\n",
      "conv2d_4 (Conv2D)            (None, 28, 28, 64)        18496     \n",
      "_________________________________________________________________\n",
      "activation_4 (Activation)    (None, 28, 28, 64)        0         \n",
      "_________________________________________________________________\n",
      "max_pooling2d_4 (MaxPooling2 (None, 14, 14, 64)        0         \n",
      "_________________________________________________________________\n",
      "conv2d_5 (Conv2D)            (None, 14, 14, 128)       73856     \n",
      "_________________________________________________________________\n",
      "activation_5 (Activation)    (None, 14, 14, 128)       0         \n",
      "_________________________________________________________________\n",
      "max_pooling2d_5 (MaxPooling2 (None, 7, 7, 128)         0         \n",
      "_________________________________________________________________\n",
      "conv2d_6 (Conv2D)            (None, 7, 7, 256)         295168    \n",
      "_________________________________________________________________\n",
      "activation_6 (Activation)    (None, 7, 7, 256)         0         \n",
      "_________________________________________________________________\n",
      "max_pooling2d_6 (MaxPooling2 (None, 3, 3, 256)         0         \n",
      "_________________________________________________________________\n",
      "conv2d_7 (Conv2D)            (None, 3, 3, 512)         1180160   \n",
      "_________________________________________________________________\n",
      "activation_7 (Activation)    (None, 3, 3, 512)         0         \n",
      "_________________________________________________________________\n",
      "max_pooling2d_7 (MaxPooling2 (None, 1, 1, 512)         0         \n",
      "_________________________________________________________________\n",
      "flatten_1 (Flatten)          (None, 512)               0         \n",
      "_________________________________________________________________\n",
      "dense_1 (Dense)              (None, 9)                 4617      \n",
      "_________________________________________________________________\n",
      "activation_8 (Activation)    (None, 9)                 0         \n",
      "=================================================================\n",
      "Total params: 1,578,329\n",
      "Trainable params: 1,578,329\n",
      "Non-trainable params: 0\n",
      "_________________________________________________________________\n"
     ]
    }
   ],
   "source": [
    "# 13/08/2019 definition architecture reseau de neurones : Catson v2\n",
    "model = Sequential()\n",
    "\n",
    "model.add(Conv2D(8, (3, 3), padding=\"same\", input_shape=(224, 224, 3)))\n",
    "model.add(Activation(\"relu\"))\n",
    "model.add(MaxPooling2D(pool_size=(2, 2), strides=(2, 2)))\n",
    "\n",
    "model.add(Conv2D(16, (3, 3), padding=\"same\"))\n",
    "model.add(Activation(\"relu\"))\n",
    "model.add(MaxPooling2D(pool_size=(2, 2), strides=(2, 2)))\n",
    "\n",
    "model.add(Conv2D(32, (3, 3), padding=\"same\"))\n",
    "model.add(Activation(\"relu\"))\n",
    "model.add(MaxPooling2D(pool_size=(2, 2), strides=(2, 2)))\n",
    "\n",
    "model.add(Conv2D(64, (3, 3), padding=\"same\"))\n",
    "model.add(Activation(\"relu\"))\n",
    "model.add(MaxPooling2D(pool_size=(2, 2), strides=(2, 2)))\n",
    "\n",
    "model.add(Conv2D(128, (3, 3), padding=\"same\"))\n",
    "model.add(Activation(\"relu\"))\n",
    "model.add(MaxPooling2D(pool_size=(2, 2), strides=(2, 2)))\n",
    "\n",
    "model.add(Conv2D(256, (3, 3), padding=\"same\"))\n",
    "model.add(Activation(\"relu\"))\n",
    "model.add(MaxPooling2D(pool_size=(2, 2), strides=(2, 2)))\n",
    "\n",
    "model.add(Conv2D(512, (3, 3), padding=\"same\"))\n",
    "model.add(Activation(\"relu\"))\n",
    "model.add(MaxPooling2D(pool_size=(2, 2), strides=(2, 2)))\n",
    "\n",
    "model.add(Flatten())\n",
    "model.add(Dense(9))\n",
    "model.add(Activation(\"softmax\"))\n",
    "\n",
    "model.summary()"
   ]
  },
  {
   "cell_type": "code",
   "execution_count": 9,
   "metadata": {},
   "outputs": [
    {
     "name": "stdout",
     "output_type": "stream",
     "text": [
      "[INFO] training network...\n",
      "Train on 2526 samples, validate on 632 samples\n",
      "Epoch 1/25\n",
      "2526/2526 [==============================] - 10s 4ms/step - loss: 1.0208 - acc: 0.6607 - val_loss: 0.5603 - val_acc: 0.8085\n",
      "Epoch 2/25\n",
      "2526/2526 [==============================] - 5s 2ms/step - loss: 0.3645 - acc: 0.8741 - val_loss: 0.2430 - val_acc: 0.9161\n",
      "Epoch 3/25\n",
      "2526/2526 [==============================] - 5s 2ms/step - loss: 0.2294 - acc: 0.9169 - val_loss: 0.1686 - val_acc: 0.9509\n",
      "Epoch 4/25\n",
      "2526/2526 [==============================] - 5s 2ms/step - loss: 0.1220 - acc: 0.9576 - val_loss: 0.1515 - val_acc: 0.9573\n",
      "Epoch 5/25\n",
      "2526/2526 [==============================] - 5s 2ms/step - loss: 0.0925 - acc: 0.9691 - val_loss: 0.1629 - val_acc: 0.9604\n",
      "Epoch 6/25\n",
      "2526/2526 [==============================] - 5s 2ms/step - loss: 0.1128 - acc: 0.9636 - val_loss: 0.0841 - val_acc: 0.9763\n",
      "Epoch 7/25\n",
      "2526/2526 [==============================] - 5s 2ms/step - loss: 0.0346 - acc: 0.9893 - val_loss: 0.1147 - val_acc: 0.9763\n",
      "Epoch 8/25\n",
      "2526/2526 [==============================] - 5s 2ms/step - loss: 0.0559 - acc: 0.9877 - val_loss: 0.1223 - val_acc: 0.9699\n",
      "Epoch 9/25\n",
      "2526/2526 [==============================] - 5s 2ms/step - loss: 0.0349 - acc: 0.9889 - val_loss: 0.1324 - val_acc: 0.9747\n",
      "Epoch 10/25\n",
      "2526/2526 [==============================] - 5s 2ms/step - loss: 0.0163 - acc: 0.9949 - val_loss: 0.1065 - val_acc: 0.9810\n",
      "Epoch 11/25\n",
      "2526/2526 [==============================] - 5s 2ms/step - loss: 0.0184 - acc: 0.9937 - val_loss: 0.1244 - val_acc: 0.9668\n",
      "Epoch 12/25\n",
      "2526/2526 [==============================] - 5s 2ms/step - loss: 0.0132 - acc: 0.9960 - val_loss: 0.1287 - val_acc: 0.9731\n",
      "Epoch 13/25\n",
      "2526/2526 [==============================] - 5s 2ms/step - loss: 0.0285 - acc: 0.9913 - val_loss: 0.1913 - val_acc: 0.9636\n",
      "Epoch 14/25\n",
      "2526/2526 [==============================] - 5s 2ms/step - loss: 0.0348 - acc: 0.9889 - val_loss: 0.0930 - val_acc: 0.9794\n",
      "Epoch 15/25\n",
      "2526/2526 [==============================] - 5s 2ms/step - loss: 0.0079 - acc: 0.9972 - val_loss: 0.1054 - val_acc: 0.9731\n",
      "Epoch 16/25\n",
      "2526/2526 [==============================] - 5s 2ms/step - loss: 0.0719 - acc: 0.9814 - val_loss: 0.1661 - val_acc: 0.9636\n",
      "Epoch 17/25\n",
      "2526/2526 [==============================] - 5s 2ms/step - loss: 0.0335 - acc: 0.9913 - val_loss: 0.1543 - val_acc: 0.9778\n",
      "Epoch 18/25\n",
      "2526/2526 [==============================] - 5s 2ms/step - loss: 0.0166 - acc: 0.9945 - val_loss: 0.1204 - val_acc: 0.9794\n",
      "Epoch 19/25\n",
      "2526/2526 [==============================] - 5s 2ms/step - loss: 0.0025 - acc: 1.0000 - val_loss: 0.1200 - val_acc: 0.9810\n",
      "Epoch 20/25\n",
      "2526/2526 [==============================] - 5s 2ms/step - loss: 2.5089e-04 - acc: 1.0000 - val_loss: 0.1149 - val_acc: 0.9810\n",
      "Epoch 21/25\n",
      "2526/2526 [==============================] - 5s 2ms/step - loss: 1.0111e-04 - acc: 1.0000 - val_loss: 0.1190 - val_acc: 0.9810\n",
      "Epoch 22/25\n",
      "2526/2526 [==============================] - 5s 2ms/step - loss: 7.0756e-05 - acc: 1.0000 - val_loss: 0.1212 - val_acc: 0.9810\n",
      "Epoch 23/25\n",
      "2526/2526 [==============================] - 5s 2ms/step - loss: 5.3708e-05 - acc: 1.0000 - val_loss: 0.1235 - val_acc: 0.9810\n",
      "Epoch 24/25\n",
      "2526/2526 [==============================] - 5s 2ms/step - loss: 4.2597e-05 - acc: 1.0000 - val_loss: 0.1248 - val_acc: 0.9810\n",
      "Epoch 25/25\n",
      "2526/2526 [==============================] - 5s 2ms/step - loss: 3.5495e-05 - acc: 1.0000 - val_loss: 0.1261 - val_acc: 0.9810\n"
     ]
    }
   ],
   "source": [
    "# train the model using the Adam optimizer\n",
    "print(\"[INFO] training network...\")\n",
    "opt = Adam(lr=1e-3, decay=1e-3 / 50)\n",
    "model.compile(loss=\"categorical_crossentropy\", optimizer=opt, metrics=[\"accuracy\"])\n",
    "H = model.fit(trainX, trainY, validation_data=(valX, valY), epochs=25, batch_size=32)"
   ]
  },
  {
   "cell_type": "code",
   "execution_count": 10,
   "metadata": {},
   "outputs": [
    {
     "name": "stdout",
     "output_type": "stream",
     "text": [
      "[INFO] evaluating network...\n",
      "             precision    recall  f1-score   support\n",
      "\n",
      "     bagguy       1.00      1.00      1.00        80\n",
      "      felix       0.98      1.00      0.99        49\n",
      "     gritus       1.00      1.00      1.00        27\n",
      "    grokado       1.00      0.91      0.95        11\n",
      "      kipik       0.83      1.00      0.91         5\n",
      "     mikado       0.96      0.96      0.96        27\n",
      "      nocat       1.00      1.00      1.00       137\n",
      "        ota       1.00      0.92      0.96        12\n",
      "    triknik       1.00      1.00      1.00         3\n",
      "\n",
      "avg / total       0.99      0.99      0.99       351\n",
      "\n"
     ]
    }
   ],
   "source": [
    "# evaluate the network\n",
    "print(\"[INFO] evaluating network...\")\n",
    "predictions = model.predict(testX, batch_size=32)\n",
    "print(classification_report(testY.argmax(axis=1), predictions.argmax(axis=1), target_names=lb.classes_))"
   ]
  },
  {
   "cell_type": "code",
   "execution_count": 11,
   "metadata": {},
   "outputs": [],
   "source": [
    "# saving neural model\n",
    "model.save('cat_neural_model.h5')\n",
    "\n",
    "with open('cat_model_architecture.json', 'w') as f:\n",
    "    f.write(model.to_json())\n",
    "\n",
    "f = open(\"cat_labels.bin\", \"wb\")\n",
    "f.write(pickle.dumps(lb))\n",
    "f.close()"
   ]
  },
  {
   "cell_type": "code",
   "execution_count": null,
   "metadata": {},
   "outputs": [],
   "source": []
  },
  {
   "cell_type": "code",
   "execution_count": null,
   "metadata": {},
   "outputs": [],
   "source": []
  }
 ],
 "metadata": {
  "kernelspec": {
   "display_name": "Python 3",
   "language": "python",
   "name": "python3"
  },
  "language_info": {
   "codemirror_mode": {
    "name": "ipython",
    "version": 3
   },
   "file_extension": ".py",
   "mimetype": "text/x-python",
   "name": "python",
   "nbconvert_exporter": "python",
   "pygments_lexer": "ipython3",
   "version": "3.6.5"
  }
 },
 "nbformat": 4,
 "nbformat_minor": 2
}
